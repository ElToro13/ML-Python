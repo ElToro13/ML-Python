{
 "cells": [
  {
   "cell_type": "code",
   "execution_count": 1,
   "metadata": {},
   "outputs": [],
   "source": [
    "import tweepy\n",
    "import pandas as pd\n",
    "import numpy as np"
   ]
  },
  {
   "cell_type": "code",
   "execution_count": 2,
   "metadata": {},
   "outputs": [],
   "source": [
    "#Twitter Credentials\n",
    "consumer_key        = ''\n",
    "consumer_secret     = ''\n",
    "access_token        = ''\n",
    "access_token_secret = ''"
   ]
  },
  {
   "cell_type": "code",
   "execution_count": 3,
   "metadata": {},
   "outputs": [],
   "source": [
    "#Authenticating\n",
    "auth = tweepy.OAuthHandler(consumer_key, consumer_secret)\n",
    "auth.set_access_token(access_token, access_token_secret)\n",
    "api = tweepy.API(auth,wait_on_rate_limit=True)"
   ]
  },
  {
   "cell_type": "code",
   "execution_count": 4,
   "metadata": {},
   "outputs": [],
   "source": [
    "'''\n",
    "Here, tweets that have either #gbdoc or #doc or both are filter and stored in a csv file. Apart from that,\n",
    "time and date of tweet creation, source of tweet were also collect. \n",
    "'''\n",
    "data = []\n",
    "\n",
    "for tweet in tweepy.Cursor(api.search,q=\"#gbdoc OR #doc\", \n",
    "                           lang=\"en\",\n",
    "                           since=\"2018-12-26\", tweet_mode='extended').items(2000):\n",
    "    try:\n",
    "        #print(tweet.created_at, tweet.user.location, tweet.full_text.lower().encode('ascii',errors='ignore'), tweet.retweet_count, tweet.favorite_count,tweet.source)\n",
    "        date, time = str(tweet.created_at).split()\n",
    "        h,m,s = time.split(':')\n",
    "        y,mn,d = date.split('-')\n",
    "        data.append([d ,mn ,y ,h ,m ,s , str(tweet.full_text.lower().encode('ascii',errors='ignore')),tweet.source])\n",
    "        \n",
    "    except Exception as e:\n",
    "        print(e)\n",
    "    dat = np.array(data)\n",
    "    df = pd.DataFrame(data=dat, columns=['Day', 'Month', 'Year', 'Hour', 'Minute', 'Seconds', 'Tweet', 'Source of Tweet'])\n",
    "    df.to_csv('DDM_NLP5.csv')"
   ]
  },
  {
   "cell_type": "code",
   "execution_count": null,
   "metadata": {},
   "outputs": [],
   "source": []
  }
 ],
 "metadata": {
  "kernelspec": {
   "display_name": "Python 3",
   "language": "python",
   "name": "python3"
  },
  "language_info": {
   "codemirror_mode": {
    "name": "ipython",
    "version": 3
   },
   "file_extension": ".py",
   "mimetype": "text/x-python",
   "name": "python",
   "nbconvert_exporter": "python",
   "pygments_lexer": "ipython3",
   "version": "3.6.6"
  }
 },
 "nbformat": 4,
 "nbformat_minor": 2
}
